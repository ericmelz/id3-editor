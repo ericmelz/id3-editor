{
 "cells": [
  {
   "cell_type": "code",
   "execution_count": 1,
   "id": "c47a68e1-47c8-41cd-88e3-255412b4e40c",
   "metadata": {},
   "outputs": [],
   "source": [
    "import eyed3\n",
    "\n",
    "import os\n",
    "import subprocess\n",
    "import re\n",
    "\n",
    "from constants import ALBUM, ARTIST, SHORT_NAME, SOURCE_DIR, TOTAL_DISCS"
   ]
  },
  {
   "cell_type": "code",
   "execution_count": 37,
   "id": "6b722520-cb71-4d94-9965-78b9184430cb",
   "metadata": {},
   "outputs": [],
   "source": [
    "def rename_wav_files(directory):\n",
    "    pattern = re.compile(r'(\\d{1,2})-(\\d{1,2})\\s.*\\.wav$', re.IGNORECASE)\n",
    "\n",
    "    for filename in os.listdir(directory):\n",
    "        if filename.lower().endswith('.wav'):\n",
    "            match = pattern.match(filename)\n",
    "            if match:\n",
    "                disc = int(match.group(1))\n",
    "                track = int(match.group(2))\n",
    "                new_filename = f\"{SHORT_NAME} {disc:02d}-{track:02d}.wav\"\n",
    "                src = os.path.join(directory, filename)\n",
    "                dst = os.path.join(directory, new_filename)\n",
    "                print(f\"Renaming '{filename}' -> '{new_filename}'\")\n",
    "                os.rename(src, dst)\n",
    "\n",
    "def convert_from_wav_to_mp3(directory):\n",
    "    for filename in os.listdir(directory):\n",
    "        if filename.lower().endswith(\".wav\"):\n",
    "            wav_path = os.path.join(directory, filename)\n",
    "            base_name = os.path.splitext(filename)[0]\n",
    "            mp3_name = base_name + \".mp3\"\n",
    "            mp3_path = os.path.join(directory, mp3_name)\n",
    "            print(f\"Converting {filename} -> {mp3_name}\")\n",
    "            subprocess.run([\n",
    "                \"ffmpeg\", \"-y\", \"-i\", wav_path, \"-codec:a\", \"libmp3lame\", \"-qscale:a\", \"2\", mp3_path],\n",
    "                check=True)\n",
    "\n",
    "def delete_wav_files(directory):\n",
    "    deleted_files = []\n",
    "\n",
    "    for filename in os.listdir(directory):\n",
    "        if filename.lower().endswith('.wav'):\n",
    "            file_path = os.path.join(directory, filename)\n",
    "            try:\n",
    "                os.remove(file_path)\n",
    "                deleted_files.append(filename)\n",
    "                print(f\"Deleted: {filename}\")\n",
    "            except Exception as e:\n",
    "                print(f\"Failed to delete {filename}: {e}\")\n",
    "\n",
    "    if not deleted_files:\n",
    "        print(\"No .wav files found.\")\n",
    "    else:\n",
    "        print(f\"Deleted {len(deleted_files)} .wav file(s).\")            \n",
    "\n",
    "def add_tags(directory):\n",
    "    pattern = re.compile(r'.*(\\d{2})-(\\d{2}).mp3$', re.IGNORECASE)\n",
    "    for filename in os.listdir(directory):\n",
    "        if filename.lower().endswith('.mp3'):\n",
    "            base_name = os.path.splitext(filename)[0]\n",
    "            mp3_path = os.path.join(directory, filename)\n",
    "            match = pattern.match(filename)\n",
    "            disc = int(match.group(1))\n",
    "            track = int(match.group(2))\n",
    "            audiofile = eyed3.load(mp3_path)\n",
    "            if audiofile.tag is None:\n",
    "                audiofile.initTag()\n",
    "            audiofile.tag.title = base_name\n",
    "            audiofile.tag.album = ALBUM\n",
    "            audiofile.tag.artist = ARTIST\n",
    "            audiofile.tag.disc_num = (disc, TOTAL_DISCS)\n",
    "            audiofile.tag.track_num = track\n",
    "            audiofile.tag.save()\n",
    "            \n",
    "\n"
   ]
  },
  {
   "cell_type": "code",
   "execution_count": 38,
   "id": "9378ee97-fcba-4dee-b7f8-3729d0ec3546",
   "metadata": {},
   "outputs": [],
   "source": [
    "#rename_wav_files(SOURCE_DIR)"
   ]
  },
  {
   "cell_type": "code",
   "execution_count": 39,
   "id": "a3148600-0e59-41cb-9443-e77d04751971",
   "metadata": {},
   "outputs": [],
   "source": [
    "#convert_from_wav_to_mp3(SOURCE_DIR)"
   ]
  },
  {
   "cell_type": "code",
   "execution_count": 40,
   "id": "c4dbfc56-4f33-4ce9-a2d5-ee5f78c1c14f",
   "metadata": {},
   "outputs": [],
   "source": [
    "#delete_wav_files(SOURCE_DIR)"
   ]
  },
  {
   "cell_type": "code",
   "execution_count": 41,
   "id": "736a7e14-f0e8-42c3-9050-2c91db3c7800",
   "metadata": {},
   "outputs": [],
   "source": [
    "add_tags(SOURCE_DIR)"
   ]
  }
 ],
 "metadata": {
  "kernelspec": {
   "display_name": "Python 3 (ipykernel)",
   "language": "python",
   "name": "python3"
  },
  "language_info": {
   "codemirror_mode": {
    "name": "ipython",
    "version": 3
   },
   "file_extension": ".py",
   "mimetype": "text/x-python",
   "name": "python",
   "nbconvert_exporter": "python",
   "pygments_lexer": "ipython3",
   "version": "3.13.0"
  }
 },
 "nbformat": 4,
 "nbformat_minor": 5
}

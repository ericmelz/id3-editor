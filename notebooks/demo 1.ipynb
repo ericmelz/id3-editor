{
 "cells": [
  {
   "cell_type": "code",
   "execution_count": 1,
   "id": "c47a68e1-47c8-41cd-88e3-255412b4e40c",
   "metadata": {},
   "outputs": [],
   "source": [
    "import os\n",
    "import re\n",
    "\n",
    "from constants import SOURCE_DIR"
   ]
  },
  {
   "cell_type": "code",
   "execution_count": 2,
   "id": "6b722520-cb71-4d94-9965-78b9184430cb",
   "metadata": {},
   "outputs": [],
   "source": [
    "def rename_wav_files(directory):\n",
    "    pattern = re.compile(r'(\\d{1,2})-(\\d{1,2})\\s.*\\.wav$', re.IGNORECASE)\n",
    "\n",
    "    for filename in os.listdir(directory):\n",
    "        if filename.lower().endswith('.wav'):\n",
    "            match = pattern.match(filename)\n",
    "            if match:\n",
    "                day1 = int(match.group(1))\n",
    "                day2 = int(match.group(2))\n",
    "                new_filename = f\"Zero Hour {day1:02d}-{day2:02d}.wav\"\n",
    "                src = os.path.join(directory, filename)\n",
    "                dst = os.path.join(directory, new_filename)\n",
    "                print(f\"Renaming '{filename}' -> '{new_filename}'\")\n",
    "                os.rename(src, dst)"
   ]
  },
  {
   "cell_type": "code",
   "execution_count": 3,
   "id": "9378ee97-fcba-4dee-b7f8-3729d0ec3546",
   "metadata": {},
   "outputs": [
    {
     "name": "stdout",
     "output_type": "stream",
     "text": [
      "Renaming '1-10 Chapter 05.wav' -> 'Zero Hour 01-10.wav'\n",
      "Renaming '1-05 Chapter 02a.wav' -> 'Zero Hour 01-05.wav'\n",
      "Renaming '1-07 Chapter 03.wav' -> 'Zero Hour 01-07.wav'\n",
      "Renaming '1-02 Prologue a.wav' -> 'Zero Hour 01-02.wav'\n",
      "Renaming '1-04 Chapter 01a.wav' -> 'Zero Hour 01-04.wav'\n",
      "Renaming '1-08 Chapter 04a.wav' -> 'Zero Hour 01-08.wav'\n",
      "Renaming '1-06 Chapter 02b.wav' -> 'Zero Hour 01-06.wav'\n",
      "Renaming '1-03 Prologue b.wav' -> 'Zero Hour 01-03.wav'\n",
      "Renaming '1-01 Tom Clancy Zero Hour ~ Intro.wav' -> 'Zero Hour 01-01.wav'\n",
      "Renaming '1-09 Chapter 04b.wav' -> 'Zero Hour 01-09.wav'\n"
     ]
    }
   ],
   "source": [
    "rename_wav_files(SOURCE_DIR)"
   ]
  },
  {
   "cell_type": "code",
   "execution_count": null,
   "id": "a3148600-0e59-41cb-9443-e77d04751971",
   "metadata": {},
   "outputs": [],
   "source": []
  }
 ],
 "metadata": {
  "kernelspec": {
   "display_name": "Python 3 (ipykernel)",
   "language": "python",
   "name": "python3"
  },
  "language_info": {
   "codemirror_mode": {
    "name": "ipython",
    "version": 3
   },
   "file_extension": ".py",
   "mimetype": "text/x-python",
   "name": "python",
   "nbconvert_exporter": "python",
   "pygments_lexer": "ipython3",
   "version": "3.13.0"
  }
 },
 "nbformat": 4,
 "nbformat_minor": 5
}
